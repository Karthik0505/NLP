{
 "cells": [
  {
   "cell_type": "markdown",
   "id": "81751c6e",
   "metadata": {},
   "source": [
    "### TOPIC 1 : TOKENIZATION"
   ]
  },
  {
   "cell_type": "markdown",
   "id": "589bc1be",
   "metadata": {},
   "source": [
    "KEY NOTES\n",
    "\n",
    "    * NLTK -> Offers Felxible Algorithms for tasks like tokenization.\n",
    "    * Spacy -> Renowed for its speed and performace. ideal for efficient NLP Solutions."
   ]
  },
  {
   "cell_type": "code",
   "execution_count": 1,
   "id": "8efafec0",
   "metadata": {},
   "outputs": [
    {
     "name": "stdout",
     "output_type": "stream",
     "text": [
      "Defaulting to user installation because normal site-packages is not writeable\n",
      "Requirement already satisfied: nltk in c:\\programdata\\anaconda3\\lib\\site-packages (3.7)\n",
      "Requirement already satisfied: regex>=2021.8.3 in c:\\programdata\\anaconda3\\lib\\site-packages (from nltk) (2022.7.9)\n",
      "Requirement already satisfied: joblib in c:\\users\\karthik\\appdata\\roaming\\python\\python39\\site-packages (from nltk) (1.4.2)\n",
      "Requirement already satisfied: tqdm in c:\\programdata\\anaconda3\\lib\\site-packages (from nltk) (4.64.1)\n",
      "Requirement already satisfied: click in c:\\programdata\\anaconda3\\lib\\site-packages (from nltk) (8.0.4)\n",
      "Requirement already satisfied: colorama in c:\\programdata\\anaconda3\\lib\\site-packages (from click->nltk) (0.4.5)\n",
      "Note: you may need to restart the kernel to use updated packages.\n"
     ]
    }
   ],
   "source": [
    "%pip install nltk"
   ]
  },
  {
   "cell_type": "code",
   "execution_count": 2,
   "id": "fba441f0",
   "metadata": {},
   "outputs": [],
   "source": [
    "corpus = \"\"\"Hello Welcome,to karthik's NLP Notebook.\n",
    "Please do watch the entire course! to become expert in NLP.\n",
    "\"\"\""
   ]
  },
  {
   "cell_type": "code",
   "execution_count": 3,
   "id": "294bceb1",
   "metadata": {},
   "outputs": [
    {
     "name": "stdout",
     "output_type": "stream",
     "text": [
      "Hello Welcome,to karthik's NLP Notebook.\n",
      "Please do watch the entire course! to become expert in NLP.\n",
      "\n"
     ]
    }
   ],
   "source": [
    "print(corpus)"
   ]
  },
  {
   "cell_type": "code",
   "execution_count": 4,
   "id": "094639cb",
   "metadata": {},
   "outputs": [],
   "source": [
    "# Tokenization\n",
    "# Step 1 -> convert paragraph into sentences.\n",
    "\n",
    "from nltk.tokenize import sent_tokenize"
   ]
  },
  {
   "cell_type": "code",
   "execution_count": 5,
   "id": "149e1d34",
   "metadata": {},
   "outputs": [
    {
     "data": {
      "text/plain": [
       "[\"Hello Welcome,to karthik's NLP Notebook.\",\n",
       " 'Please do watch the entire course!',\n",
       " 'to become expert in NLP.']"
      ]
     },
     "execution_count": 5,
     "metadata": {},
     "output_type": "execute_result"
    }
   ],
   "source": [
    "documents = sent_tokenize(corpus)\n",
    "documents"
   ]
  },
  {
   "cell_type": "markdown",
   "id": "f91124f9",
   "metadata": {},
   "source": [
    ". and ! are splitted into different sentences."
   ]
  },
  {
   "cell_type": "code",
   "execution_count": 6,
   "id": "87fa4786",
   "metadata": {},
   "outputs": [
    {
     "data": {
      "text/plain": [
       "list"
      ]
     },
     "execution_count": 6,
     "metadata": {},
     "output_type": "execute_result"
    }
   ],
   "source": [
    "type(documents)"
   ]
  },
  {
   "cell_type": "code",
   "execution_count": 7,
   "id": "6c9f4da2",
   "metadata": {},
   "outputs": [],
   "source": [
    "## Tokenization\n",
    "## step 2 -> sentences into words.\n",
    "\n",
    "from nltk.tokenize import word_tokenize"
   ]
  },
  {
   "cell_type": "code",
   "execution_count": 8,
   "id": "0f0db491",
   "metadata": {},
   "outputs": [
    {
     "data": {
      "text/plain": [
       "['Hello',\n",
       " 'Welcome',\n",
       " ',',\n",
       " 'to',\n",
       " 'karthik',\n",
       " \"'s\",\n",
       " 'NLP',\n",
       " 'Notebook',\n",
       " '.',\n",
       " 'Please',\n",
       " 'do',\n",
       " 'watch',\n",
       " 'the',\n",
       " 'entire',\n",
       " 'course',\n",
       " '!',\n",
       " 'to',\n",
       " 'become',\n",
       " 'expert',\n",
       " 'in',\n",
       " 'NLP',\n",
       " '.']"
      ]
     },
     "execution_count": 8,
     "metadata": {},
     "output_type": "execute_result"
    }
   ],
   "source": [
    "word_tokenize(corpus)"
   ]
  },
  {
   "cell_type": "code",
   "execution_count": 9,
   "id": "f2403648",
   "metadata": {},
   "outputs": [
    {
     "name": "stdout",
     "output_type": "stream",
     "text": [
      "['Hello', 'Welcome', ',', 'to', 'karthik', \"'s\", 'NLP', 'Notebook', '.']\n",
      "['Please', 'do', 'watch', 'the', 'entire', 'course', '!']\n",
      "['to', 'become', 'expert', 'in', 'NLP', '.']\n"
     ]
    }
   ],
   "source": [
    "for sentence in documents:\n",
    "    print(word_tokenize(sentence))"
   ]
  },
  {
   "cell_type": "code",
   "execution_count": 10,
   "id": "cc7117f0",
   "metadata": {},
   "outputs": [],
   "source": [
    "# wordpunct -> , ' everything is tokenized now.\n",
    "\n",
    "from nltk.tokenize import wordpunct_tokenize"
   ]
  },
  {
   "cell_type": "code",
   "execution_count": 11,
   "id": "1bdf946e",
   "metadata": {},
   "outputs": [
    {
     "data": {
      "text/plain": [
       "['Hello',\n",
       " 'Welcome',\n",
       " ',',\n",
       " 'to',\n",
       " 'karthik',\n",
       " \"'\",\n",
       " 's',\n",
       " 'NLP',\n",
       " 'Notebook',\n",
       " '.',\n",
       " 'Please',\n",
       " 'do',\n",
       " 'watch',\n",
       " 'the',\n",
       " 'entire',\n",
       " 'course',\n",
       " '!',\n",
       " 'to',\n",
       " 'become',\n",
       " 'expert',\n",
       " 'in',\n",
       " 'NLP',\n",
       " '.']"
      ]
     },
     "execution_count": 11,
     "metadata": {},
     "output_type": "execute_result"
    }
   ],
   "source": [
    "wordpunct_tokenize(corpus)"
   ]
  },
  {
   "cell_type": "code",
   "execution_count": 15,
   "id": "f7378d4d",
   "metadata": {},
   "outputs": [],
   "source": [
    "# tree bank word tokenizer ( full stop not consider as sepearte word. )\n",
    "\n",
    "from nltk.tokenize import TreebankWordTokenizer"
   ]
  },
  {
   "cell_type": "code",
   "execution_count": 16,
   "id": "06f8ca06",
   "metadata": {},
   "outputs": [],
   "source": [
    "tokenizer = TreebankWordTokenizer()"
   ]
  },
  {
   "cell_type": "code",
   "execution_count": 17,
   "id": "d18c2ae9",
   "metadata": {},
   "outputs": [
    {
     "data": {
      "text/plain": [
       "['Hello',\n",
       " 'Welcome',\n",
       " ',',\n",
       " 'to',\n",
       " 'karthik',\n",
       " \"'s\",\n",
       " 'NLP',\n",
       " 'Notebook.',\n",
       " 'Please',\n",
       " 'do',\n",
       " 'watch',\n",
       " 'the',\n",
       " 'entire',\n",
       " 'course',\n",
       " '!',\n",
       " 'to',\n",
       " 'become',\n",
       " 'expert',\n",
       " 'in',\n",
       " 'NLP',\n",
       " '.']"
      ]
     },
     "execution_count": 17,
     "metadata": {},
     "output_type": "execute_result"
    }
   ],
   "source": [
    "tokenizer.tokenize(corpus)"
   ]
  },
  {
   "cell_type": "markdown",
   "id": "7afab138",
   "metadata": {},
   "source": [
    "### Topic 2 : Stemming"
   ]
  },
  {
   "cell_type": "markdown",
   "id": "3ed62b8d",
   "metadata": {},
   "source": [
    "* Stemming is the process of reducing the word to its stem.\n",
    "\n",
    "* For example : [going,go,goes] , [watching,watch,watched]\n",
    "\n",
    "* Instead of having similar kind of words. just have a single word.\n",
    "\n",
    "* usecase : review classification..much more"
   ]
  },
  {
   "cell_type": "code",
   "execution_count": 22,
   "id": "6f01453f",
   "metadata": {},
   "outputs": [],
   "source": [
    "words = ['eating','eats','eaten','writing','writes','programming','programs']"
   ]
  },
  {
   "cell_type": "code",
   "execution_count": 23,
   "id": "b6f8c7b8",
   "metadata": {},
   "outputs": [],
   "source": [
    "# 1. PorterStemmer"
   ]
  },
  {
   "cell_type": "code",
   "execution_count": 24,
   "id": "bd889c68",
   "metadata": {},
   "outputs": [],
   "source": [
    "from nltk.stem import PorterStemmer"
   ]
  },
  {
   "cell_type": "code",
   "execution_count": 25,
   "id": "0d719a79",
   "metadata": {},
   "outputs": [],
   "source": [
    "stemming = PorterStemmer()"
   ]
  },
  {
   "cell_type": "code",
   "execution_count": 26,
   "id": "298e1a50",
   "metadata": {},
   "outputs": [
    {
     "name": "stdout",
     "output_type": "stream",
     "text": [
      "eating--->eat\n",
      "eats--->eat\n",
      "eaten--->eaten\n",
      "writing--->write\n",
      "writes--->write\n",
      "programming--->program\n",
      "programs--->program\n"
     ]
    }
   ],
   "source": [
    "for word in words:\n",
    "    print(word+'--->'+stemming.stem(word))"
   ]
  },
  {
   "cell_type": "markdown",
   "id": "72c814cf",
   "metadata": {},
   "source": [
    "#### Disadvantage:\n",
    "\n",
    "* The form of the word may change."
   ]
  },
  {
   "cell_type": "code",
   "execution_count": 27,
   "id": "fa55561b",
   "metadata": {},
   "outputs": [
    {
     "data": {
      "text/plain": [
       "'congratul'"
      ]
     },
     "execution_count": 27,
     "metadata": {},
     "output_type": "execute_result"
    }
   ],
   "source": [
    "stemming.stem('congratulations')"
   ]
  },
  {
   "cell_type": "code",
   "execution_count": 34,
   "id": "16344948",
   "metadata": {},
   "outputs": [],
   "source": [
    "# 2. RegexpStemmer class\n",
    "\n",
    "# with the help of this we can easily implement regular expression stemmer algorithms.\n",
    "# it basically takes a single regular expression and removes any prefix and suffix that matches the expression."
   ]
  },
  {
   "cell_type": "code",
   "execution_count": 31,
   "id": "2d1e1a14",
   "metadata": {},
   "outputs": [],
   "source": [
    "from nltk.stem import RegexpStemmer"
   ]
  },
  {
   "cell_type": "code",
   "execution_count": 35,
   "id": "8818373a",
   "metadata": {},
   "outputs": [],
   "source": [
    "reg_stemmer = RegexpStemmer('ing$|s$|e$|able$',min=4)"
   ]
  },
  {
   "cell_type": "code",
   "execution_count": 36,
   "id": "d40ae91f",
   "metadata": {},
   "outputs": [
    {
     "data": {
      "text/plain": [
       "'eat'"
      ]
     },
     "execution_count": 36,
     "metadata": {},
     "output_type": "execute_result"
    }
   ],
   "source": [
    "reg_stemmer.stem('eating')"
   ]
  },
  {
   "cell_type": "code",
   "execution_count": 37,
   "id": "912d7a0f",
   "metadata": {},
   "outputs": [
    {
     "data": {
      "text/plain": [
       "'ingeat'"
      ]
     },
     "execution_count": 37,
     "metadata": {},
     "output_type": "execute_result"
    }
   ],
   "source": [
    "reg_stemmer.stem('ingeating')"
   ]
  },
  {
   "cell_type": "markdown",
   "id": "970ef411",
   "metadata": {},
   "source": [
    "    ing$ -> removes ing at the end.\n",
    "    ing -> removes ing in the word."
   ]
  },
  {
   "cell_type": "code",
   "execution_count": 38,
   "id": "c5ce3ed8",
   "metadata": {},
   "outputs": [],
   "source": [
    "# 3. Snowball Stemmer\n",
    "\n",
    "# it forms better than porter stemmer.\n",
    "# it wont getting messed up.\n",
    "# better accuracy then porter stemmer."
   ]
  },
  {
   "cell_type": "code",
   "execution_count": 39,
   "id": "4ab844d2",
   "metadata": {},
   "outputs": [],
   "source": [
    "from nltk.stem import SnowballStemmer"
   ]
  },
  {
   "cell_type": "code",
   "execution_count": 41,
   "id": "7c437df5",
   "metadata": {},
   "outputs": [],
   "source": [
    "snowballstemmer = SnowballStemmer('english')"
   ]
  },
  {
   "cell_type": "code",
   "execution_count": 42,
   "id": "8e91432b",
   "metadata": {},
   "outputs": [
    {
     "name": "stdout",
     "output_type": "stream",
     "text": [
      "eating--->eat\n",
      "eats--->eat\n",
      "eaten--->eaten\n",
      "writing--->write\n",
      "writes--->write\n",
      "programming--->program\n",
      "programs--->program\n"
     ]
    }
   ],
   "source": [
    "for word in words:\n",
    "    print(word+'--->'+snowballstemmer.stem(word))"
   ]
  },
  {
   "cell_type": "markdown",
   "id": "f15f0f45",
   "metadata": {},
   "source": [
    "#### Porter Stemmer vs SnowballStemmer"
   ]
  },
  {
   "cell_type": "code",
   "execution_count": 43,
   "id": "1e6e5842",
   "metadata": {},
   "outputs": [
    {
     "data": {
      "text/plain": [
       "('fairli', 'sportingli')"
      ]
     },
     "execution_count": 43,
     "metadata": {},
     "output_type": "execute_result"
    }
   ],
   "source": [
    "# Porter stemmer\n",
    "\n",
    "stemming.stem('fairly'),stemming.stem(\"sportingly\")"
   ]
  },
  {
   "cell_type": "code",
   "execution_count": 44,
   "id": "4b9133b8",
   "metadata": {},
   "outputs": [
    {
     "data": {
      "text/plain": [
       "('fair', 'sport')"
      ]
     },
     "execution_count": 44,
     "metadata": {},
     "output_type": "execute_result"
    }
   ],
   "source": [
    "# Snowball stemmer\n",
    "\n",
    "snowballstemmer.stem('fairly'),snowballstemmer.stem('sportingly')"
   ]
  },
  {
   "cell_type": "markdown",
   "id": "1c8ebb5d",
   "metadata": {},
   "source": [
    "### Topic 3 :  Lemmitization"
   ]
  },
  {
   "cell_type": "markdown",
   "id": "170015d0",
   "metadata": {},
   "source": [
    "    * Lemmitization is like stemming. \n",
    "    * The output we will get after lemmitization is lemma.\n",
    "    * which is a root word rather than root stem. \n",
    "    * we will be getting a valid word that means the same thing."
   ]
  },
  {
   "cell_type": "code",
   "execution_count": 45,
   "id": "11c1d391",
   "metadata": {},
   "outputs": [],
   "source": [
    "from nltk.stem import WordNetLemmatizer"
   ]
  },
  {
   "cell_type": "code",
   "execution_count": 46,
   "id": "e46aa4df",
   "metadata": {},
   "outputs": [],
   "source": [
    "lemmatizer = WordNetLemmatizer()"
   ]
  },
  {
   "cell_type": "code",
   "execution_count": 55,
   "id": "b0c0b0f6",
   "metadata": {},
   "outputs": [
    {
     "data": {
      "text/plain": [
       "'go'"
      ]
     },
     "execution_count": 55,
     "metadata": {},
     "output_type": "execute_result"
    }
   ],
   "source": [
    "'''\n",
    "POS - Noun -n , Verb -v, adjective-a , adverb-r\n",
    "'''\n",
    "lemmatizer.lemmatize(\"going\",pos='v')"
   ]
  },
  {
   "cell_type": "code",
   "execution_count": 56,
   "id": "3c7e8d27",
   "metadata": {},
   "outputs": [],
   "source": [
    "words = ['eating','eats','eaten','writing','writes','programming','programs']"
   ]
  },
  {
   "cell_type": "code",
   "execution_count": 60,
   "id": "803546f0",
   "metadata": {},
   "outputs": [
    {
     "name": "stdout",
     "output_type": "stream",
     "text": [
      "eating--->eat\n",
      "eats--->eat\n",
      "eaten--->eat\n",
      "writing--->write\n",
      "writes--->write\n",
      "programming--->program\n",
      "programs--->program\n"
     ]
    }
   ],
   "source": [
    "for word in words:\n",
    "    print(word+\"--->\"+lemmatizer.lemmatize(word,pos='v'))"
   ]
  },
  {
   "cell_type": "markdown",
   "id": "ac8c728a",
   "metadata": {},
   "source": [
    " Use case -> Q&A, Chatbot, Text summarization"
   ]
  },
  {
   "cell_type": "markdown",
   "id": "9aab61ca",
   "metadata": {},
   "source": [
    "### Topic 4: StopWords"
   ]
  },
  {
   "cell_type": "markdown",
   "id": "1390e1a1",
   "metadata": {},
   "source": [
    "like i, was,am,where.. these kind of words are said to be stopwords."
   ]
  },
  {
   "cell_type": "code",
   "execution_count": 88,
   "id": "4f4a30a2",
   "metadata": {},
   "outputs": [],
   "source": [
    "paragraph=\"\"\"I am indeed delighted to be here with the Future of India on this Children's Day, 14th November, 2002.\n",
    "            My greetings to the children, teachers and members of Industrial community particularly members of CII \n",
    "            who have organized this event and to release this vision document \"Developed India : Mission for the Young\".\n",
    "            I am happy to inform you that today I have completed my mission of interacting with 100,000 school children \n",
    "            across the length and breadth of the nation. Wherever I went, be it Arunachal Pradesh, Nagaland, \n",
    "            Madhya Pradesh, Gujarat, Karnataka or any other part of India, the voice of the youth is unique and \n",
    "            strong in articulating their vision and dream. Everyone dreams of living in a prosperous India, a happy\n",
    "            India and a peaceful India. The combination of prosperity, happiness and peace to a nation always come together.\n",
    "            When all three of them converge on to India, then India truly be a Developed Nation. Today I am going to talk to you\n",
    "            about how India can be transformed into a Developed Nation. There are more than 300 million children of your age group\n",
    "            in India. There are about 2000 children in this hall. What can this smaller fraction do to realize the dream of Developed \n",
    "            India.\"\"\""
   ]
  },
  {
   "cell_type": "code",
   "execution_count": 62,
   "id": "66919b93",
   "metadata": {},
   "outputs": [],
   "source": [
    "from nltk.stem import PorterStemmer"
   ]
  },
  {
   "cell_type": "code",
   "execution_count": 63,
   "id": "3ac38d1a",
   "metadata": {},
   "outputs": [],
   "source": [
    "from nltk.corpus import stopwords"
   ]
  },
  {
   "cell_type": "code",
   "execution_count": 65,
   "id": "aff5c6df",
   "metadata": {},
   "outputs": [
    {
     "data": {
      "text/plain": [
       "['i',\n",
       " 'me',\n",
       " 'my',\n",
       " 'myself',\n",
       " 'we',\n",
       " 'our',\n",
       " 'ours',\n",
       " 'ourselves',\n",
       " 'you',\n",
       " \"you're\",\n",
       " \"you've\",\n",
       " \"you'll\",\n",
       " \"you'd\",\n",
       " 'your',\n",
       " 'yours',\n",
       " 'yourself',\n",
       " 'yourselves',\n",
       " 'he',\n",
       " 'him',\n",
       " 'his',\n",
       " 'himself',\n",
       " 'she',\n",
       " \"she's\",\n",
       " 'her',\n",
       " 'hers',\n",
       " 'herself',\n",
       " 'it',\n",
       " \"it's\",\n",
       " 'its',\n",
       " 'itself',\n",
       " 'they',\n",
       " 'them',\n",
       " 'their',\n",
       " 'theirs',\n",
       " 'themselves',\n",
       " 'what',\n",
       " 'which',\n",
       " 'who',\n",
       " 'whom',\n",
       " 'this',\n",
       " 'that',\n",
       " \"that'll\",\n",
       " 'these',\n",
       " 'those',\n",
       " 'am',\n",
       " 'is',\n",
       " 'are',\n",
       " 'was',\n",
       " 'were',\n",
       " 'be',\n",
       " 'been',\n",
       " 'being',\n",
       " 'have',\n",
       " 'has',\n",
       " 'had',\n",
       " 'having',\n",
       " 'do',\n",
       " 'does',\n",
       " 'did',\n",
       " 'doing',\n",
       " 'a',\n",
       " 'an',\n",
       " 'the',\n",
       " 'and',\n",
       " 'but',\n",
       " 'if',\n",
       " 'or',\n",
       " 'because',\n",
       " 'as',\n",
       " 'until',\n",
       " 'while',\n",
       " 'of',\n",
       " 'at',\n",
       " 'by',\n",
       " 'for',\n",
       " 'with',\n",
       " 'about',\n",
       " 'against',\n",
       " 'between',\n",
       " 'into',\n",
       " 'through',\n",
       " 'during',\n",
       " 'before',\n",
       " 'after',\n",
       " 'above',\n",
       " 'below',\n",
       " 'to',\n",
       " 'from',\n",
       " 'up',\n",
       " 'down',\n",
       " 'in',\n",
       " 'out',\n",
       " 'on',\n",
       " 'off',\n",
       " 'over',\n",
       " 'under',\n",
       " 'again',\n",
       " 'further',\n",
       " 'then',\n",
       " 'once',\n",
       " 'here',\n",
       " 'there',\n",
       " 'when',\n",
       " 'where',\n",
       " 'why',\n",
       " 'how',\n",
       " 'all',\n",
       " 'any',\n",
       " 'both',\n",
       " 'each',\n",
       " 'few',\n",
       " 'more',\n",
       " 'most',\n",
       " 'other',\n",
       " 'some',\n",
       " 'such',\n",
       " 'no',\n",
       " 'nor',\n",
       " 'not',\n",
       " 'only',\n",
       " 'own',\n",
       " 'same',\n",
       " 'so',\n",
       " 'than',\n",
       " 'too',\n",
       " 'very',\n",
       " 's',\n",
       " 't',\n",
       " 'can',\n",
       " 'will',\n",
       " 'just',\n",
       " 'don',\n",
       " \"don't\",\n",
       " 'should',\n",
       " \"should've\",\n",
       " 'now',\n",
       " 'd',\n",
       " 'll',\n",
       " 'm',\n",
       " 'o',\n",
       " 're',\n",
       " 've',\n",
       " 'y',\n",
       " 'ain',\n",
       " 'aren',\n",
       " \"aren't\",\n",
       " 'couldn',\n",
       " \"couldn't\",\n",
       " 'didn',\n",
       " \"didn't\",\n",
       " 'doesn',\n",
       " \"doesn't\",\n",
       " 'hadn',\n",
       " \"hadn't\",\n",
       " 'hasn',\n",
       " \"hasn't\",\n",
       " 'haven',\n",
       " \"haven't\",\n",
       " 'isn',\n",
       " \"isn't\",\n",
       " 'ma',\n",
       " 'mightn',\n",
       " \"mightn't\",\n",
       " 'mustn',\n",
       " \"mustn't\",\n",
       " 'needn',\n",
       " \"needn't\",\n",
       " 'shan',\n",
       " \"shan't\",\n",
       " 'shouldn',\n",
       " \"shouldn't\",\n",
       " 'wasn',\n",
       " \"wasn't\",\n",
       " 'weren',\n",
       " \"weren't\",\n",
       " 'won',\n",
       " \"won't\",\n",
       " 'wouldn',\n",
       " \"wouldn't\"]"
      ]
     },
     "execution_count": 65,
     "metadata": {},
     "output_type": "execute_result"
    }
   ],
   "source": [
    "stopwords.words('english')"
   ]
  },
  {
   "cell_type": "code",
   "execution_count": 66,
   "id": "af0db976",
   "metadata": {},
   "outputs": [],
   "source": [
    "from nltk.stem import PorterStemmer"
   ]
  },
  {
   "cell_type": "code",
   "execution_count": 67,
   "id": "50639ac2",
   "metadata": {},
   "outputs": [],
   "source": [
    "stemmer=PorterStemmer()"
   ]
  },
  {
   "cell_type": "code",
   "execution_count": 89,
   "id": "c01d4d5c",
   "metadata": {},
   "outputs": [
    {
     "data": {
      "text/plain": [
       "[\"I am indeed delighted to be here with the Future of India on this Children's Day, 14th November, 2002.\",\n",
       " 'My greetings to the children, teachers and members of Industrial community particularly members of CII \\n            who have organized this event and to release this vision document \"Developed India : Mission for the Young\".',\n",
       " 'I am happy to inform you that today I have completed my mission of interacting with 100,000 school children \\n            across the length and breadth of the nation.',\n",
       " 'Wherever I went, be it Arunachal Pradesh, Nagaland, \\n            Madhya Pradesh, Gujarat, Karnataka or any other part of India, the voice of the youth is unique and \\n            strong in articulating their vision and dream.',\n",
       " 'Everyone dreams of living in a prosperous India, a happy\\n            India and a peaceful India.',\n",
       " 'The combination of prosperity, happiness and peace to a nation always come together.',\n",
       " 'When all three of them converge on to India, then India truly be a Developed Nation.',\n",
       " 'Today I am going to talk to you\\n            about how India can be transformed into a Developed Nation.',\n",
       " 'There are more than 300 million children of your age group\\n            in India.',\n",
       " 'There are about 2000 children in this hall.',\n",
       " 'What can this smaller fraction do to realize the dream of Developed \\n            India.']"
      ]
     },
     "execution_count": 89,
     "metadata": {},
     "output_type": "execute_result"
    }
   ],
   "source": [
    "# tokenize\n",
    "sentences = nltk.sent_tokenize(paragraph)\n",
    "sentences"
   ]
  },
  {
   "cell_type": "code",
   "execution_count": 71,
   "id": "2dc3ee82",
   "metadata": {},
   "outputs": [
    {
     "data": {
      "text/plain": [
       "list"
      ]
     },
     "execution_count": 71,
     "metadata": {},
     "output_type": "execute_result"
    }
   ],
   "source": [
    "type(sentences)"
   ]
  },
  {
   "cell_type": "code",
   "execution_count": 73,
   "id": "f3d3852c",
   "metadata": {},
   "outputs": [],
   "source": [
    "## Apply stopwords and filter and then apply stemming"
   ]
  },
  {
   "cell_type": "code",
   "execution_count": 76,
   "id": "feb93264",
   "metadata": {},
   "outputs": [],
   "source": [
    "for i in range(len(sentences)):\n",
    "    words = nltk.word_tokenize(sentences[i])\n",
    "    words = [stemmer.stem(word) for word in words if word not in set(stopwords.words('english'))]\n",
    "    sentences[i] = ' '.join(words) # converting all the words into sentences."
   ]
  },
  {
   "cell_type": "code",
   "execution_count": 77,
   "id": "bcdff657",
   "metadata": {},
   "outputs": [
    {
     "data": {
      "text/plain": [
       "[\"i inde delight futur india children 's day , 14th novemb , 2002 .\",\n",
       " \"my greet children , teacher member industri commun particularli member cii organ event releas vision document `` develop india : mission young '' .\",\n",
       " 'i happi inform today i complet mission interact 100,000 school children across length breadth nation .',\n",
       " 'wherev i went , arunach pradesh , nagaland , madhya pradesh , gujarat , karnataka part india , voic youth uniqu strong articul vision dream .',\n",
       " 'everyon dream live prosper india , happi india peac india .',\n",
       " 'the combin prosper , happi peac nation alway come togeth .',\n",
       " 'when three converg india , india truli develop nation .',\n",
       " 'today i go talk india transform develop nation .',\n",
       " 'there 300 million children age group india .',\n",
       " 'there 2000 children hall .',\n",
       " 'what smaller fraction realiz dream develop india .']"
      ]
     },
     "execution_count": 77,
     "metadata": {},
     "output_type": "execute_result"
    }
   ],
   "source": [
    "sentences"
   ]
  },
  {
   "cell_type": "code",
   "execution_count": 83,
   "id": "09ce090b",
   "metadata": {},
   "outputs": [],
   "source": [
    "# using snowballstemmer\n",
    "\n",
    "from nltk.stem import SnowballStemmer"
   ]
  },
  {
   "cell_type": "code",
   "execution_count": 84,
   "id": "b858d04e",
   "metadata": {},
   "outputs": [],
   "source": [
    "snowballstemmer = SnowballStemmer('english')"
   ]
  },
  {
   "cell_type": "code",
   "execution_count": 85,
   "id": "3cb67925",
   "metadata": {},
   "outputs": [],
   "source": [
    "for i in range(len(sentences)):\n",
    "    words = nltk.word_tokenize(sentences[i])\n",
    "    words = [snowballstemmer.stem(word) for word in words if word not in set(stopwords.words('english'))]\n",
    "    sentences[i] = ' '.join(words) # converting all the words into sentences."
   ]
  },
  {
   "cell_type": "code",
   "execution_count": 86,
   "id": "a167057c",
   "metadata": {},
   "outputs": [
    {
     "data": {
      "text/plain": [
       "[\"i inde delight futur india children 's day , 14th novemb , 2002 .\",\n",
       " \"my greet children , teacher member industri communiti particular member cii organ event releas vision document `` develop india : mission young '' .\",\n",
       " 'i happi inform today i complet mission interact 100,000 school children across length breadth nation .',\n",
       " 'wherev i went , arunach pradesh , nagaland , madhya pradesh , gujarat , karnataka part india , voic youth uniqu strong articul vision dream .',\n",
       " 'everyon dream live prosper india , happi india peac india .',\n",
       " 'the combin prosper , happi peac nation alway come togeth .',\n",
       " 'when three converg india , india truli develop nation .',\n",
       " 'today i go talk india transform develop nation .',\n",
       " 'there 300 million children age group india .',\n",
       " 'there 2000 children hall .',\n",
       " 'what smaller fraction realiz dream develop india .']"
      ]
     },
     "execution_count": 86,
     "metadata": {},
     "output_type": "execute_result"
    }
   ],
   "source": [
    "sentences"
   ]
  },
  {
   "cell_type": "code",
   "execution_count": 96,
   "id": "62eaf55a",
   "metadata": {},
   "outputs": [],
   "source": [
    "# using lemmitization\n",
    "\n",
    "from nltk.stem import WordNetLemmatizer\n",
    "lemmatizer = WordNetLemmatizer()"
   ]
  },
  {
   "cell_type": "code",
   "execution_count": 94,
   "id": "da2d714d",
   "metadata": {},
   "outputs": [],
   "source": [
    "for i in range(len(sentences)):\n",
    "    words = nltk.word_tokenize(sentences[i])\n",
    "    words = [lemmatizer.lemmatize(word.lower(),pos='v') for word in words if word not in set(stopwords.words('english'))]\n",
    "    sentences[i] = ' '.join(words) # converting all the words into sentences."
   ]
  },
  {
   "cell_type": "code",
   "execution_count": 95,
   "id": "41a501c3",
   "metadata": {},
   "outputs": [
    {
     "data": {
      "text/plain": [
       "[\"i indeed delight future india children 's day , 14th november , 2002 .\",\n",
       " 'my greet child , teacher member industrial community particularly member cii organize event release vision document `` develop india : mission young `` .',\n",
       " 'i happy inform today i complete mission interact 100,000 school child across length breadth nation .',\n",
       " 'wherever i go , arunachal pradesh , nagaland , madhya pradesh , gujarat , karnataka part india , voice youth unique strong articulate vision dream .',\n",
       " 'everyone dream live prosperous india , happy india peaceful india .',\n",
       " 'the combination prosperity , happiness peace nation always come together .',\n",
       " 'when three converge india , india truly develop nation .',\n",
       " 'today i go talk india transform develop nation .',\n",
       " 'there 300 million child age group india .',\n",
       " 'there 2000 child hall .',\n",
       " 'what smaller fraction realize dream develop india .']"
      ]
     },
     "execution_count": 95,
     "metadata": {},
     "output_type": "execute_result"
    }
   ],
   "source": [
    "sentences"
   ]
  }
 ],
 "metadata": {
  "kernelspec": {
   "display_name": "Python 3 (ipykernel)",
   "language": "python",
   "name": "python3"
  },
  "language_info": {
   "codemirror_mode": {
    "name": "ipython",
    "version": 3
   },
   "file_extension": ".py",
   "mimetype": "text/x-python",
   "name": "python",
   "nbconvert_exporter": "python",
   "pygments_lexer": "ipython3",
   "version": "3.9.13"
  }
 },
 "nbformat": 4,
 "nbformat_minor": 5
}
